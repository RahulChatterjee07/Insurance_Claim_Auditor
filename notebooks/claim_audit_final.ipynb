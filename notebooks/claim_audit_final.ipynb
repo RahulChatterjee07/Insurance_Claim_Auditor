{
 "cells": [
  {
   "cell_type": "markdown",
   "id": "77c694e6",
   "metadata": {},
   "source": [
    "# 🧾 Insurance Claim Auditor – Demo Notebook"
   ]
  },
  {
   "cell_type": "code",
   "execution_count": null,
   "id": "1a73d701",
   "metadata": {},
   "outputs": [
    {
     "name": "stdout",
     "output_type": "stream",
     "text": [
      "📄 Detected Document Type: OCF"
     ]
    }
   ],
   "source": [
    "import re\n",
    "\n",
    "# Simulated Claude Sonnet prompt and logic\n",
    "def detect_document_type(text):\n",
    "    \"\"\"\n",
    "    Detect whether the document is an Invoice, OCF, or Other.\n",
    "    \"\"\"\n",
    "    lower_text = text.lower()\n",
    "    if \"ocf-21\" in lower_text or \"ocf-18\" in lower_text or \"ocf-23\" in lower_text:\n",
    "        return \"OCF\"\n",
    "    elif \"invoice\" in lower_text or re.search(r\"invoice\\s+#?\\d+\", lower_text):\n",
    "        return \"Invoice\"\n",
    "    return \"Other\"\n",
    "\n",
    "doc_type = detect_document_type(ocf_text)\n",
    "print(\"📄 Detected Document Type:\", doc_type)\n"
   ]
  },
  {
   "cell_type": "code",
   "execution_count": null,
   "id": "4d748b4f",
   "metadata": {},
   "outputs": [
    {
     "name": "stdout",
     "output_type": "stream",
     "text": [
      "✅ Proceeding with structured extraction..."
     ]
    }
   ],
   "source": [
    "# Route logic based on document type\n",
    "if doc_type == \"Invoice\" or doc_type == \"OCF\":\n",
    "    print(\"✅ Proceeding with structured extraction...\")\n",
    "else:\n",
    "    print(\"⚠️ Document type not supported for processing.\")\n"
   ]
  },
  {
   "cell_type": "code",
   "execution_count": null,
   "id": "25057051",
   "metadata": {},
   "outputs": [],
   "source": [
    "# Load sample OCF document\n",
    "ocf_path = \"../data/sample_documents/ocf21_jane_doe.txt\"\n",
    "with open(ocf_path, \"r\") as file:\n",
    "    ocf_text = file.read()\n",
    "\n",
    "print(\"📄 Sample OCF-21 Document:\")\n",
    "print(\"=\" * 50)\n",
    "print(ocf_text)\n"
   ]
  },
  {
   "cell_type": "code",
   "execution_count": null,
   "id": "07eb7761",
   "metadata": {},
   "outputs": [
    {
     "name": "stdout",
     "output_type": "stream",
     "text": [
      "{\n",
      "  \"valid_claims\": [\n",
      "    {\n",
      "      \"amount\": \"$600\",\n",
      "      \"provider\": \"Toronto Rehab Inc.\",\n",
      "      \"service\": \"Chiropractic\",\n",
      "      \"date\": \"2024-03-20\"\n",
      "    }\n",
      "  ],\n",
      "  \"flagged_duplicates\": [\n",
      "    {\n",
      "      \"amount\": \"$1,200\",\n",
      "      \"provider\": \"Toronto Rehab Inc.\",\n",
      "      \"date\": \"2024-03-18\",\n",
      "      \"reason\": \"Duplicate of Invoice #1245\"\n",
      "    }\n",
      "  ],\n",
      "  \"total_approved\": \"$600\"\n",
      "}"
     ]
    }
   ],
   "source": [
    "# Simulate structured JSON extraction (as if from Claude or LLaMA)\n",
    "extracted_json = {\n",
    "    \"valid_claims\": [\n",
    "        {\n",
    "            \"amount\": \"$600\",\n",
    "            \"provider\": \"Toronto Rehab Inc.\",\n",
    "            \"service\": \"Chiropractic\",\n",
    "            \"date\": \"2024-03-20\"\n",
    "        }\n",
    "    ],\n",
    "    \"flagged_duplicates\": [\n",
    "        {\n",
    "            \"amount\": \"$1,200\",\n",
    "            \"provider\": \"Toronto Rehab Inc.\",\n",
    "            \"date\": \"2024-03-18\",\n",
    "            \"reason\": \"Duplicate of Invoice #1245\"\n",
    "        }\n",
    "    ],\n",
    "    \"total_approved\": \"$600\"\n",
    "}\n",
    "\n",
    "print(\"🧠 Extracted JSON:\")\n",
    "import json\n",
    "print(json.dumps(extracted_json, indent=2))\n"
   ]
  },
  {
   "cell_type": "code",
   "execution_count": null,
   "id": "c08ccee6",
   "metadata": {},
   "outputs": [
    {
     "name": "stdout",
     "output_type": "stream",
     "text": [
      "✅ Valid Entries: 1\n",
      "⚠️ Duplicates Flagged: 1\n",
      "💰 Total Approved: $600"
     ]
    }
   ],
   "source": [
    "# Evaluation: Check duplicate and total logic\n",
    "num_valid = len(extracted_json[\"valid_claims\"])\n",
    "num_duplicates = len(extracted_json[\"flagged_duplicates\"])\n",
    "total = extracted_json[\"total_approved\"]\n",
    "\n",
    "print(\"✅ Valid Entries:\", num_valid)\n",
    "print(\"⚠️ Duplicates Flagged:\", num_duplicates)\n",
    "print(\"💰 Total Approved:\", total)\n"
   ]
  },
  {
   "cell_type": "code",
   "execution_count": null,
   "id": "788cd31a",
   "metadata": {},
   "outputs": [],
   "source": [
    "import json\n",
    "import base64\n",
    "from PIL import Image\n",
    "import io\n",
    "\n",
    "# System prompt for Claude Sonnet\n",
    "system_prompt = (\n",
    "    \"You are a professional document analyst specializing in extracting meaningful insights \"\n",
    "    \"from images and text. Your responses should be concise, structured, and highly accurate.\"\n",
    ")\n",
    "\n",
    "# Load and encode sample image (simulated invoice or OCF page)\n",
    "image_path = \"../data/sample_documents/ocf21_jane_doe.txt\"  # placeholder for scanned image path\n",
    "# We'll simulate this as if it's a scanned image\n",
    "with open(image_path, \"rb\") as f:\n",
    "    fake_image_data = f.read()  # Simulated image input\n",
    "    img_b64 = base64.b64encode(fake_image_data).decode(\"utf-8\")\n",
    "\n",
    "# Content prompt for invoice field extraction\n",
    "content_prompt = '''\n",
    "You are given an insurance claim document (either an invoice or OCF).\n",
    "Your task is to extract relevant fields in the following JSON format:\n",
    "\n",
    "{\n",
    "  \"document_type\": \"Invoice | OCF | Other\",\n",
    "  \"claimed_services\": [\n",
    "    {\n",
    "      \"service\": \"...\",\n",
    "      \"provider\": \"...\",\n",
    "      \"amount\": \"...\",\n",
    "      \"date\": \"...\"\n",
    "    }\n",
    "  ],\n",
    "  \"duplicates_flagged\": [\n",
    "    {\n",
    "      \"invoice_id\": \"...\",\n",
    "      \"reason\": \"Duplicate/Overlap\"\n",
    "    }\n",
    "  ]\n",
    "}\n",
    "\n",
    "Strictly return the above JSON format without explanations. Only include duplicates if they are explicitly marked or repeated.\n",
    "'''\n",
    "\n",
    "# Construct messages for Claude Sonnet\n",
    "images = [img_b64]  # Simulated image input\n",
    "messages = [\n",
    "    {\n",
    "        \"role\": \"user\",\n",
    "        \"content\": [\n",
    "            {\n",
    "                \"type\": \"image\",\n",
    "                \"source\": {\n",
    "                    \"type\": \"base64\",\n",
    "                    \"media_type\": \"image/jpeg\",\n",
    "                    \"data\": img,\n",
    "                },\n",
    "            }\n",
    "            for img in images\n",
    "        ] + [{\"type\": \"text\", \"text\": content_prompt}]\n",
    "    }\n",
    "]\n",
    "\n",
    "# Prepare the API payload for Bedrock\n",
    "body = json.dumps(\n",
    "    {\n",
    "        \"anthropic_version\": \"bedrock-2023-05-31\",\n",
    "        \"max_tokens\": 1500,\n",
    "        \"system\": system_prompt,\n",
    "        \"top_p\": 0.7,\n",
    "        \"temperature\": 0.7,\n",
    "        \"messages\": messages,\n",
    "        \"stop_sequences\": [\"### END\"],\n",
    "    }\n",
    ")\n",
    "\n",
    "print(\"📦 Claude Sonnet Payload:\")\n",
    "print(json.dumps(json.loads(body), indent=2))\n"
   ]
  },
  {
   "cell_type": "code",
   "execution_count": null,
   "id": "1c4a8551",
   "metadata": {},
   "outputs": [],
   "source": [
    "import json\n",
    "\n",
    "# Load mock Claude Sonnet response\n",
    "with open(\"../data/extracted_json/../mock_claude_invoice_output.json\") as f:\n",
    "    response = json.load(f)\n",
    "\n",
    "# Extract info\n",
    "claimed_services = response.get(\"claimed_services\", [])\n",
    "duplicates = response.get(\"duplicates_flagged\", [])\n",
    "\n",
    "valid_count = len(claimed_services)\n",
    "duplicate_count = len(duplicates)\n",
    "total_value = sum([int(s[\"amount\"].replace(\"$\", \"\").replace(\",\", \"\")) for s in claimed_services])\n",
    "\n",
    "print(\"✅ Valid Claims:\", valid_count)\n",
    "print(\"⚠️ Duplicates Flagged:\", duplicate_count)\n",
    "print(\"💰 Total Value Claimed:\", f\"${total_value}\")\n",
    "print(\"📝 Document Type Detected:\", response.get(\"document_type\"))\n"
   ]
  },
  {
   "cell_type": "code",
   "execution_count": null,
   "id": "8439a659",
   "metadata": {},
   "outputs": [],
   "source": [
    "from IPython.display import Image, display\n",
    "\n",
    "# Display the complex test case image\n",
    "display(Image(filename=\"../data/sample_documents/../mock_invoice_discrepancy_test.png\"))\n"
   ]
  },
  {
   "cell_type": "code",
   "execution_count": null,
   "id": "8475bcfb",
   "metadata": {},
   "outputs": [
    {
     "name": "stdout",
     "output_type": "stream",
     "text": [
      "✅ Valid Entries: 1\n",
      "⚠️ Duplicates Flagged: 1\n",
      "💰 Total Approved: $600"
     ]
    }
   ],
   "source": [
    "import json\n",
    "\n",
    "# Load simulated Claude output\n",
    "with open(\"../data/sample_documents/../mock_claude_invoice_discrepancy_output.json\") as f:\n",
    "    result = json.load(f)\n",
    "\n",
    "# Extract valid services, discrepancies, and duplicates\n",
    "total_claimed = 0\n",
    "discrepancies = []\n",
    "for svc in result[\"claimed_services\"]:\n",
    "    amt = int(svc[\"amount\"].replace(\"$\", \"\").replace(\",\", \"\"))\n",
    "    total_claimed += amt\n",
    "    if \"discrepancy_flag\" in svc:\n",
    "        discrepancies.append({\n",
    "            \"invoice_id\": svc[\"invoice_id\"],\n",
    "            \"issue\": svc[\"discrepancy_flag\"]\n",
    "        })\n",
    "\n",
    "# Print summary\n",
    "print(\"📋 Document Type:\", result[\"document_type\"])\n",
    "print(\"✅ Valid Entries:\", len(result[\"claimed_services\"]))\n",
    "print(\"⚠️ Duplicates:\", len(result[\"duplicates_flagged\"]))\n",
    "print(\"❗ Discrepancies Detected:\", len(discrepancies))\n",
    "print(\"💰 Total Claimed:\", f\"${total_claimed}\")\n",
    "print()\n",
    "\n",
    "# Show details of discrepancies\n",
    "for d in discrepancies:\n",
    "    print(f\"Invoice {d['invoice_id']}: {d['issue']}\")\n"
   ]
  }
 ],
 "metadata": {},
 "nbformat": 4,
 "nbformat_minor": 5
}
