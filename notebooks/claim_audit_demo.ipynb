{
 "cells": [
  {
   "cell_type": "markdown",
   "id": "77c694e6",
   "metadata": {},
   "source": [
    "# 🧾 Insurance Claim Auditor – Demo Notebook"
   ]
  },
  {
   "cell_type": "code",
   "execution_count": null,
   "id": "25057051",
   "metadata": {},
   "outputs": [],
   "source": [
    "# Load sample OCF document\n",
    "ocf_path = \"../data/sample_documents/ocf21_jane_doe.txt\"\n",
    "with open(ocf_path, \"r\") as file:\n",
    "    ocf_text = file.read()\n",
    "\n",
    "print(\"📄 Sample OCF-21 Document:\")\n",
    "print(\"=\" * 50)\n",
    "print(ocf_text)\n"
   ]
  },
  {
   "cell_type": "code",
   "execution_count": null,
   "id": "07eb7761",
   "metadata": {},
   "outputs": [],
   "source": [
    "# Simulate structured JSON extraction (as if from Claude or LLaMA)\n",
    "extracted_json = {\n",
    "    \"valid_claims\": [\n",
    "        {\n",
    "            \"amount\": \"$600\",\n",
    "            \"provider\": \"Toronto Rehab Inc.\",\n",
    "            \"service\": \"Chiropractic\",\n",
    "            \"date\": \"2024-03-20\"\n",
    "        }\n",
    "    ],\n",
    "    \"flagged_duplicates\": [\n",
    "        {\n",
    "            \"amount\": \"$1,200\",\n",
    "            \"provider\": \"Toronto Rehab Inc.\",\n",
    "            \"date\": \"2024-03-18\",\n",
    "            \"reason\": \"Duplicate of Invoice #1245\"\n",
    "        }\n",
    "    ],\n",
    "    \"total_approved\": \"$600\"\n",
    "}\n",
    "\n",
    "print(\"🧠 Extracted JSON:\")\n",
    "import json\n",
    "print(json.dumps(extracted_json, indent=2))\n"
   ]
  },
  {
   "cell_type": "code",
   "execution_count": null,
   "id": "c08ccee6",
   "metadata": {},
   "outputs": [],
   "source": [
    "# Evaluation: Check duplicate and total logic\n",
    "num_valid = len(extracted_json[\"valid_claims\"])\n",
    "num_duplicates = len(extracted_json[\"flagged_duplicates\"])\n",
    "total = extracted_json[\"total_approved\"]\n",
    "\n",
    "print(\"✅ Valid Entries:\", num_valid)\n",
    "print(\"⚠️ Duplicates Flagged:\", num_duplicates)\n",
    "print(\"💰 Total Approved:\", total)\n"
   ]
  }
 ],
 "metadata": {},
 "nbformat": 4,
 "nbformat_minor": 5
}
